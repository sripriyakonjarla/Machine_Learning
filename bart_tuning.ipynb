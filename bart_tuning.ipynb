{
  "cells": [
    {
      "cell_type": "markdown",
      "metadata": {
        "id": "view-in-github",
        "colab_type": "text"
      },
      "source": [
        "<a href=\"https://colab.research.google.com/github/sripriyakonjarla/Machine_Learning/blob/main/bart_tuning.ipynb\" target=\"_parent\"><img src=\"https://colab.research.google.com/assets/colab-badge.svg\" alt=\"Open In Colab\"/></a>"
      ]
    },
    {
      "cell_type": "code",
      "source": [
        "import pandas as pd\n",
        "from sklearn.model_selection import train_test_split, RandomizedSearchCV, cross_validate\n",
        "from sklearn.preprocessing import StandardScaler\n",
        "from sklearn.metrics import accuracy_score, precision_score, recall_score, f1_score\n",
        "\n",
        "# Load the dataset from an Excel file\n",
        "data = pd.read_excel('bart_embeddings.xlsx')\n",
        "\n",
        "# Assume the last column is the target variable\n",
        "X_train = data.iloc[:, :-1]  # Features\n",
        "y_train = data.iloc[:, -1]    # Target variable\n",
        "\n",
        "\n",
        "\n",
        "from sklearn.model_selection import RandomizedSearchCV, StratifiedKFold, cross_validate"
      ],
      "metadata": {
        "id": "JPxoVdFYYO8t"
      },
      "execution_count": null,
      "outputs": []
    },
    {
      "cell_type": "code",
      "source": [
        "import numpy as np\n",
        "import pandas as pd\n",
        "from sklearn.model_selection import train_test_split\n",
        "from sklearn.metrics import accuracy_score, precision_score, recall_score, f1_score\n",
        "from sklearn.svm import SVC\n",
        "from sklearn.neighbors import KNeighborsClassifier\n",
        "from sklearn.tree import DecisionTreeClassifier\n",
        "from sklearn.naive_bayes import GaussianNB\n",
        "from sklearn.ensemble import RandomForestClassifier, AdaBoostClassifier, ExtraTreesClassifier, GradientBoostingClassifier\n",
        "from sklearn.linear_model import LogisticRegression\n",
        "from sklearn.neural_network import MLPClassifier\n",
        "from xgboost import XGBClassifier\n",
        "from catboost import CatBoostClassifier\n",
        "models = {\n",
        "    \"SVM\": SVC(),\n",
        "    \"KNN\": KNeighborsClassifier(),\n",
        "    \"Decision Tree\": DecisionTreeClassifier(),\n",
        "    \"Gaussian Naive Bayes\": GaussianNB(),\n",
        "    \"Random Forest\": RandomForestClassifier(),\n",
        "    \"Logistic Regression\": LogisticRegression(max_iter=1000),\n",
        "    \"MLP\": MLPClassifier(max_iter=1000, random_state=42),\n",
        "    \"XGBoost\": XGBClassifier(eval_metric='logloss', use_label_encoder=False),\n",
        "    \"CatBoost\": CatBoostClassifier(iterations=1000, learning_rate=0.1, depth=6, verbose=0),\n",
        "    \"AdaBoost\": AdaBoostClassifier(n_estimators=100, random_state=42),\n",
        "    \"Extra Trees\": ExtraTreesClassifier(n_estimators=100, random_state=42),\n",
        "    \"Gradient Boosting\": GradientBoostingClassifier(n_estimators=100, learning_rate=0.1, max_depth=3, random_state=42)\n",
        "}\n",
        "\n",
        "# Evaluate models\n",
        "results = {}\n",
        "for name, model in models.items():\n",
        "    model.fit(X_train, y_train)\n",
        "    y_pred = model.predict(X_test)\n",
        "\n",
        "    accuracy = accuracy_score(y_test, y_pred)\n",
        "    precision = precision_score(y_test, y_pred, average='macro')\n",
        "    recall = recall_score(y_test, y_pred, average='macro')\n",
        "    f1 = f1_score(y_test, y_pred, average='macro')\n",
        "\n",
        "    results[name] = {\n",
        "        'Accuracy': round(accuracy, 4),\n",
        "        'Precision': round(precision, 4),\n",
        "        'Recall': round(recall, 4),\n",
        "        'F1 Score': round(f1, 4)\n",
        "    }\n",
        "\n",
        "# Print the results\n",
        "for model_name, metrics in results.items():\n",
        "    print(f\"Model: {model_name}\")\n",
        "    for metric, value in metrics.items():\n",
        "        print(f\"  {metric}: {value}\")"
      ],
      "metadata": {
        "colab": {
          "base_uri": "https://localhost:8080/"
        },
        "id": "Li6772sVtiNK",
        "outputId": "bff911c8-17e8-4c7d-c8e1-da18ed3da77c"
      },
      "execution_count": null,
      "outputs": [
        {
          "output_type": "stream",
          "name": "stderr",
          "text": [
            "/usr/local/lib/python3.10/dist-packages/xgboost/core.py:158: UserWarning: [15:00:10] WARNING: /workspace/src/learner.cc:740: \n",
            "Parameters: { \"use_label_encoder\" } are not used.\n",
            "\n",
            "  warnings.warn(smsg, UserWarning)\n",
            "/usr/local/lib/python3.10/dist-packages/sklearn/ensemble/_weight_boosting.py:527: FutureWarning: The SAMME.R algorithm (the default) is deprecated and will be removed in 1.6. Use the SAMME algorithm to circumvent this warning.\n",
            "  warnings.warn(\n"
          ]
        },
        {
          "output_type": "stream",
          "name": "stdout",
          "text": [
            "Model: SVM\n",
            "  Accuracy: 0.631\n",
            "  Precision: 0.6395\n",
            "  Recall: 0.6272\n",
            "  F1 Score: 0.6321\n",
            "Model: KNN\n",
            "  Accuracy: 0.5655\n",
            "  Precision: 0.5819\n",
            "  Recall: 0.5594\n",
            "  F1 Score: 0.5668\n",
            "Model: Decision Tree\n",
            "  Accuracy: 0.5595\n",
            "  Precision: 0.5621\n",
            "  Recall: 0.5576\n",
            "  F1 Score: 0.5595\n",
            "Model: Gaussian Naive Bayes\n",
            "  Accuracy: 0.5089\n",
            "  Precision: 0.5235\n",
            "  Recall: 0.5422\n",
            "  F1 Score: 0.4977\n",
            "Model: Random Forest\n",
            "  Accuracy: 0.5863\n",
            "  Precision: 0.6094\n",
            "  Recall: 0.5735\n",
            "  F1 Score: 0.5825\n",
            "Model: Logistic Regression\n",
            "  Accuracy: 0.5655\n",
            "  Precision: 0.5675\n",
            "  Recall: 0.5702\n",
            "  F1 Score: 0.5686\n",
            "Model: MLP\n",
            "  Accuracy: 0.6101\n",
            "  Precision: 0.6194\n",
            "  Recall: 0.605\n",
            "  F1 Score: 0.6101\n",
            "Model: XGBoost\n",
            "  Accuracy: 0.6042\n",
            "  Precision: 0.622\n",
            "  Recall: 0.5957\n",
            "  F1 Score: 0.6025\n",
            "Model: CatBoost\n",
            "  Accuracy: 0.6012\n",
            "  Precision: 0.6098\n",
            "  Recall: 0.594\n",
            "  F1 Score: 0.599\n",
            "Model: AdaBoost\n",
            "  Accuracy: 0.5565\n",
            "  Precision: 0.5789\n",
            "  Recall: 0.5423\n",
            "  F1 Score: 0.5515\n",
            "Model: Extra Trees\n",
            "  Accuracy: 0.5804\n",
            "  Precision: 0.5904\n",
            "  Recall: 0.5685\n",
            "  F1 Score: 0.5745\n",
            "Model: Gradient Boosting\n",
            "  Accuracy: 0.5863\n",
            "  Precision: 0.5941\n",
            "  Recall: 0.5795\n",
            "  F1 Score: 0.5849\n"
          ]
        }
      ]
    },
    {
      "cell_type": "code",
      "execution_count": null,
      "metadata": {
        "colab": {
          "base_uri": "https://localhost:8080/"
        },
        "id": "8TaCKX8KW9IS",
        "outputId": "4ffb76a1-4062-4d84-81e8-29cb2f8d9785"
      },
      "outputs": [
        {
          "output_type": "stream",
          "name": "stdout",
          "text": [
            "Best Parameters: {'weights': 'uniform', 'n_neighbors': 7, 'metric': 'manhattan'}\n",
            "Evaluation Metrics: {'Accuracy Mean': 0.6228, 'Accuracy STD': 0.0507, 'Precision Mean': 0.6349, 'Precision STD': 0.0508, 'Recall Mean': 0.6223, 'Recall STD': 0.0511, 'F1 Mean': 0.6254, 'F1 STD': 0.0513}\n"
          ]
        }
      ],
      "source": [
        "\n",
        "from sklearn.neighbors import KNeighborsClassifier\n",
        "\n",
        "# Define the kNN model\n",
        "knn = KNeighborsClassifier()\n",
        "\n",
        "# Set up the parameter grid for RandomizedSearchCV\n",
        "param_distributions = {\n",
        "    'n_neighbors': [3, 4, 5, 6, 7, 8, 9, 10, 11, 12, 13, 14, 15],\n",
        "    'weights': ['uniform', 'distance'],\n",
        "    'metric': ['euclidean', 'manhattan', 'minkowski']\n",
        "}\n",
        "\n",
        "# Set up the RandomizedSearchCV\n",
        "random_search = RandomizedSearchCV(\n",
        "    estimator=knn,\n",
        "    param_distributions=param_distributions,\n",
        "    n_iter=20,  # Number of random combinations to try\n",
        "    cv=10,  # 10-fold cross-validation\n",
        "    scoring='f1_macro',  # Change this to any other scoring metric if needed\n",
        "    random_state=42,\n",
        "    n_jobs=-1\n",
        ")\n",
        "\n",
        "# Fit the model to find the best parameters\n",
        "random_search.fit(X_train, y_train)\n",
        "\n",
        "# Output the best parameters\n",
        "print(\"Best Parameters:\", random_search.best_params_)\n",
        "\n",
        "best_knn = random_search.best_estimator_\n",
        "\n",
        "# Use StratifiedKFold for cross-validation\n",
        "cv = StratifiedKFold(n_splits=10)\n",
        "\n",
        "# Perform cross-validation on the best model using StratifiedKFold\n",
        "cv_score = cross_validate(best_knn, X_train, y_train, cv=cv,\n",
        "                          scoring=['accuracy', 'precision_macro', 'recall_macro', 'f1_macro'],\n",
        "                          return_train_score=False)\n",
        "\n",
        "# Collect and round the results\n",
        "results = {\n",
        "    'Accuracy Mean': round(cv_score['test_accuracy'].mean(), 4),\n",
        "    'Accuracy STD': round(cv_score['test_accuracy'].std(), 4),\n",
        "    'Precision Mean': round(cv_score['test_precision_macro'].mean(), 4),\n",
        "    'Precision STD': round(cv_score['test_precision_macro'].std(), 4),\n",
        "    'Recall Mean': round(cv_score['test_recall_macro'].mean(), 4),\n",
        "    'Recall STD': round(cv_score['test_recall_macro'].std(), 4),\n",
        "    'F1 Mean': round(cv_score['test_f1_macro'].mean(), 4),\n",
        "    'F1 STD': round(cv_score['test_f1_macro'].std(), 4),\n",
        "}\n",
        "\n",
        "# Print the evaluation metrics\n",
        "print(\"Evaluation Metrics:\", results)\n"
      ]
    },
    {
      "cell_type": "code",
      "source": [
        "import pandas as pd\n",
        "from sklearn.model_selection import train_test_split, RandomizedSearchCV, cross_validate\n",
        "from sklearn.preprocessing import StandardScaler\n",
        "from sklearn.metrics import accuracy_score, precision_score, recall_score, f1_score\n",
        "\n",
        "# Load the dataset from an Excel file\n",
        "data = pd.read_excel('bart_embeddings.xlsx')\n",
        "\n",
        "# Assume the last column is the target variable\n",
        "X = data.iloc[:, :-1]  # Features\n",
        "y = data.iloc[:, -1]    # Target variable\n",
        "\n",
        "# Split the data into training and test sets (80% train, 20% test)\n",
        "X_train, X_test, y_train, y_test = train_test_split(X, y, test_size=0.2, random_state=42, stratify=y)\n",
        "\n",
        "# Standardize features\n",
        "scaler = StandardScaler()\n",
        "X_train = scaler.fit_transform(X_train)\n",
        "X_test = scaler.transform(X_test)\n",
        "\n",
        "from sklearn.model_selection import RandomizedSearchCV, StratifiedKFold, cross_validate"
      ],
      "metadata": {
        "id": "1bJvlZLJK0EK"
      },
      "execution_count": null,
      "outputs": []
    },
    {
      "cell_type": "code",
      "source": [
        "from catboost import CatBoostClassifier\n",
        "\n",
        "# Define the CatBoost model\n",
        "catboost = CatBoostClassifier(silent=True)\n",
        "\n",
        "# Set up the parameter grid for RandomizedSearchCV\n",
        "param_distributions = {\n",
        "    'iterations': [50, 100, 200],\n",
        "    'depth': [3, 4, 5, 6],\n",
        "    'learning_rate': [0.01, 0.1, 0.2],\n",
        "}\n",
        "\n",
        "# Set up the RandomizedSearchCV\n",
        "random_search = RandomizedSearchCV(\n",
        "    estimator=catboost,\n",
        "    param_distributions=param_distributions,\n",
        "    n_iter=20,\n",
        "    cv=10,\n",
        "    scoring='f1_macro',\n",
        "    random_state=42,\n",
        "    n_jobs=-1\n",
        ")\n",
        "\n",
        "random_search.fit(X_train, y_train)\n",
        "\n",
        "print(\"CatBoost Best Parameters:\", random_search.best_params_)\n",
        "\n",
        "# Perform cross-validation on the best model\n",
        "best_catboost = random_search.best_estimator_\n",
        "cv_score = cross_validate(best_catboost, X_train, y_train, cv=10, scoring=['accuracy', 'precision_macro', 'recall_macro', 'f1_macro'], return_train_score=False)\n",
        "\n",
        "# Collect and round the results\n",
        "results = {\n",
        "    'Accuracy Mean': round(cv_score['test_accuracy'].mean(), 4),\n",
        "    'Accuracy STD': round(cv_score['test_accuracy'].std(), 4),\n",
        "    'Precision Mean': round(cv_score['test_precision_macro'].mean(), 4),\n",
        "    'Precision STD': round(cv_score['test_precision_macro'].std(), 4),\n",
        "    'Recall Mean': round(cv_score['test_recall_macro'].mean(), 4),\n",
        "    'Recall STD': round(cv_score['test_recall_macro'].std(), 4),\n",
        "    'F1 Mean': round(cv_score['test_f1_macro'].mean(), 4),\n",
        "    'F1 STD': round(cv_score['test_f1_macro'].std(), 4),\n",
        "}\n",
        "\n",
        "print(\"CatBoost Evaluation Metrics:\", results)\n"
      ],
      "metadata": {
        "colab": {
          "base_uri": "https://localhost:8080/"
        },
        "id": "CrcvnqtkYaB5",
        "outputId": "38072e3c-374c-47af-e386-55a02cc04485"
      },
      "execution_count": null,
      "outputs": [
        {
          "output_type": "stream",
          "name": "stdout",
          "text": [
            "CatBoost Best Parameters: {'learning_rate': 0.2, 'iterations': 200, 'depth': 4}\n",
            "CatBoost Evaluation Metrics: {'Accuracy Mean': 0.6414, 'Accuracy STD': 0.0376, 'Precision Mean': 0.6531, 'Precision STD': 0.0395, 'Recall Mean': 0.6427, 'Recall STD': 0.0408, 'F1 Mean': 0.6447, 'F1 STD': 0.0388}\n"
          ]
        }
      ]
    },
    {
      "cell_type": "code",
      "source": [
        "from sklearn.ensemble import GradientBoostingClassifier\n",
        "from sklearn.model_selection import RandomizedSearchCV, StratifiedKFold, cross_validate\n",
        "\n",
        "# Define the Gradient Boosting model\n",
        "gb_model = GradientBoostingClassifier()\n",
        "\n",
        "# Set up the parameter grid for RandomizedSearchCV\n",
        "param_distributions = {\n",
        "    'n_estimators': [50, 100, 150, 200],\n",
        "    'learning_rate': [0.01, 0.1, 0.2, 0.3],\n",
        "    'max_depth': [3, 4, 5, 6],\n",
        "    'subsample': [0.8, 1.0],\n",
        "    'max_features': ['auto', 'sqrt', 'log2']\n",
        "}\n",
        "\n",
        "# Set up the RandomizedSearchCV\n",
        "random_search = RandomizedSearchCV(\n",
        "    estimator=gb_model,\n",
        "    param_distributions=param_distributions,\n",
        "    n_iter=20,  # Number of random combinations to try\n",
        "    cv=10,  # 10-fold cross-validation\n",
        "    scoring='f1_macro',  # Change this to any other scoring metric if needed\n",
        "    random_state=42,\n",
        "    n_jobs=-1\n",
        ")\n",
        "\n",
        "# Fit the model to find the best parameters\n",
        "random_search.fit(X_train, y_train)\n",
        "\n",
        "# Output the best parameters\n",
        "print(\"Best Parameters:\", random_search.best_params_)\n",
        "\n",
        "best_gb = random_search.best_estimator_\n",
        "\n",
        "# Use StratifiedKFold for cross-validation\n",
        "cv = StratifiedKFold(n_splits=10)\n",
        "\n",
        "# Perform cross-validation on the best model using StratifiedKFold\n",
        "cv_score = cross_validate(best_gb, X_train, y_train, cv=cv,\n",
        "                          scoring=['accuracy', 'precision_macro', 'recall_macro', 'f1_macro'],\n",
        "                          return_train_score=False)\n",
        "\n",
        "# Collect and round the results\n",
        "results = {\n",
        "    'Accuracy Mean': round(cv_score['test_accuracy'].mean(), 4),\n",
        "    'Accuracy STD': round(cv_score['test_accuracy'].std(), 4),\n",
        "    'Precision Mean': round(cv_score['test_precision_macro'].mean(), 4),\n",
        "    'Precision STD': round(cv_score['test_precision_macro'].std(), 4),\n",
        "    'Recall Mean': round(cv_score['test_recall_macro'].mean(), 4),\n",
        "    'Recall STD': round(cv_score['test_recall_macro'].std(), 4),\n",
        "    'F1 Mean': round(cv_score['test_f1_macro'].mean(), 4),\n",
        "    'F1 STD': round(cv_score['test_f1_macro'].std(), 4),\n",
        "}\n",
        "\n",
        "# Print the evaluation metrics\n",
        "print(\"Evaluation Metrics:\", results)\n"
      ],
      "metadata": {
        "colab": {
          "base_uri": "https://localhost:8080/"
        },
        "id": "BkTOcBN6K13_",
        "outputId": "5cad2f97-0183-4ea2-fa99-ec36cca3210d"
      },
      "execution_count": null,
      "outputs": [
        {
          "output_type": "stream",
          "name": "stderr",
          "text": [
            "/usr/local/lib/python3.10/dist-packages/sklearn/model_selection/_validation.py:540: FitFailedWarning: \n",
            "70 fits failed out of a total of 200.\n",
            "The score on these train-test partitions for these parameters will be set to nan.\n",
            "If these failures are not expected, you can try to debug them by setting error_score='raise'.\n",
            "\n",
            "Below are more details about the failures:\n",
            "--------------------------------------------------------------------------------\n",
            "70 fits failed with the following error:\n",
            "Traceback (most recent call last):\n",
            "  File \"/usr/local/lib/python3.10/dist-packages/sklearn/model_selection/_validation.py\", line 888, in _fit_and_score\n",
            "    estimator.fit(X_train, y_train, **fit_params)\n",
            "  File \"/usr/local/lib/python3.10/dist-packages/sklearn/base.py\", line 1466, in wrapper\n",
            "    estimator._validate_params()\n",
            "  File \"/usr/local/lib/python3.10/dist-packages/sklearn/base.py\", line 666, in _validate_params\n",
            "    validate_parameter_constraints(\n",
            "  File \"/usr/local/lib/python3.10/dist-packages/sklearn/utils/_param_validation.py\", line 95, in validate_parameter_constraints\n",
            "    raise InvalidParameterError(\n",
            "sklearn.utils._param_validation.InvalidParameterError: The 'max_features' parameter of GradientBoostingClassifier must be an int in the range [1, inf), a float in the range (0.0, 1.0], a str among {'sqrt', 'log2'} or None. Got 'auto' instead.\n",
            "\n",
            "  warnings.warn(some_fits_failed_message, FitFailedWarning)\n",
            "/usr/local/lib/python3.10/dist-packages/sklearn/model_selection/_search.py:1103: UserWarning: One or more of the test scores are non-finite: [       nan 0.65600116 0.63651787 0.63210713 0.55957759 0.63759488\n",
            " 0.48472795 0.64189755 0.65733547 0.63787704        nan 0.64592343\n",
            "        nan 0.64408789 0.64475118        nan 0.63232292        nan\n",
            "        nan        nan]\n",
            "  warnings.warn(\n"
          ]
        },
        {
          "output_type": "stream",
          "name": "stdout",
          "text": [
            "Best Parameters: {'subsample': 1.0, 'n_estimators': 200, 'max_features': 'sqrt', 'max_depth': 6, 'learning_rate': 0.3}\n",
            "Evaluation Metrics: {'Accuracy Mean': 0.6355, 'Accuracy STD': 0.0349, 'Precision Mean': 0.6492, 'Precision STD': 0.0397, 'Recall Mean': 0.6352, 'Recall STD': 0.036, 'F1 Mean': 0.6382, 'F1 STD': 0.0357}\n"
          ]
        }
      ]
    },
    {
      "cell_type": "code",
      "source": [
        "from sklearn.ensemble import ExtraTreesClassifier\n",
        "from sklearn.model_selection import RandomizedSearchCV, StratifiedKFold, cross_validate\n",
        "\n",
        "# Define the Extra Trees model\n",
        "extra_trees_model = ExtraTreesClassifier()\n",
        "\n",
        "# Set up the parameter grid for RandomizedSearchCV\n",
        "param_distributions = {\n",
        "    'n_estimators': [50, 100, 150, 200],\n",
        "    'max_features': ['auto', 'sqrt', 'log2'],\n",
        "    'max_depth': [None, 10, 20, 30],\n",
        "    'min_samples_split': [2, 5, 10],\n",
        "    'min_samples_leaf': [1, 2, 4],\n",
        "    'bootstrap': [False, True]\n",
        "}\n",
        "\n",
        "# Set up the RandomizedSearchCV\n",
        "random_search = RandomizedSearchCV(\n",
        "    estimator=extra_trees_model,\n",
        "    param_distributions=param_distributions,\n",
        "    n_iter=20,  # Number of random combinations to try\n",
        "    cv=10,  # 10-fold cross-validation\n",
        "    scoring='f1_macro',  # Change this to any other scoring metric if needed\n",
        "    random_state=42,\n",
        "    n_jobs=-1\n",
        ")\n",
        "\n",
        "# Fit the model to find the best parameters\n",
        "random_search.fit(X_train, y_train)\n",
        "\n",
        "# Output the best parameters\n",
        "print(\"Best Parameters:\", random_search.best_params_)\n",
        "\n",
        "best_extra_trees = random_search.best_estimator_\n",
        "\n",
        "# Use StratifiedKFold for cross-validation\n",
        "cv = StratifiedKFold(n_splits=10)\n",
        "\n",
        "# Perform cross-validation on the best model using StratifiedKFold\n",
        "cv_score = cross_validate(best_extra_trees, X_train, y_train, cv=cv,\n",
        "                          scoring=['accuracy', 'precision_macro', 'recall_macro', 'f1_macro'],\n",
        "                          return_train_score=False)\n",
        "\n",
        "# Collect and round the results\n",
        "results = {\n",
        "    'Accuracy Mean': round(cv_score['test_accuracy'].mean(), 4),\n",
        "    'Accuracy STD': round(cv_score['test_accuracy'].std(), 4),\n",
        "    'Precision Mean': round(cv_score['test_precision_macro'].mean(), 4),\n",
        "    'Precision STD': round(cv_score['test_precision_macro'].std(), 4),\n",
        "    'Recall Mean': round(cv_score['test_recall_macro'].mean(), 4),\n",
        "    'Recall STD': round(cv_score['test_recall_macro'].std(), 4),\n",
        "    'F1 Mean': round(cv_score['test_f1_macro'].mean(), 4),\n",
        "    'F1 STD': round(cv_score['test_f1_macro'].std(), 4),\n",
        "}\n",
        "\n",
        "# Print the evaluation metrics\n",
        "print(\"Evaluation Metrics:\", results)\n"
      ],
      "metadata": {
        "colab": {
          "base_uri": "https://localhost:8080/"
        },
        "id": "K_4jNPjBK9S4",
        "outputId": "0b96016a-0073-4887-e171-b01f19cbc544"
      },
      "execution_count": null,
      "outputs": [
        {
          "output_type": "stream",
          "name": "stderr",
          "text": [
            "/usr/local/lib/python3.10/dist-packages/sklearn/model_selection/_validation.py:540: FitFailedWarning: \n",
            "40 fits failed out of a total of 200.\n",
            "The score on these train-test partitions for these parameters will be set to nan.\n",
            "If these failures are not expected, you can try to debug them by setting error_score='raise'.\n",
            "\n",
            "Below are more details about the failures:\n",
            "--------------------------------------------------------------------------------\n",
            "37 fits failed with the following error:\n",
            "Traceback (most recent call last):\n",
            "  File \"/usr/local/lib/python3.10/dist-packages/sklearn/model_selection/_validation.py\", line 888, in _fit_and_score\n",
            "    estimator.fit(X_train, y_train, **fit_params)\n",
            "  File \"/usr/local/lib/python3.10/dist-packages/sklearn/base.py\", line 1466, in wrapper\n",
            "    estimator._validate_params()\n",
            "  File \"/usr/local/lib/python3.10/dist-packages/sklearn/base.py\", line 666, in _validate_params\n",
            "    validate_parameter_constraints(\n",
            "  File \"/usr/local/lib/python3.10/dist-packages/sklearn/utils/_param_validation.py\", line 95, in validate_parameter_constraints\n",
            "    raise InvalidParameterError(\n",
            "sklearn.utils._param_validation.InvalidParameterError: The 'max_features' parameter of ExtraTreesClassifier must be an int in the range [1, inf), a float in the range (0.0, 1.0], a str among {'log2', 'sqrt'} or None. Got 'auto' instead.\n",
            "\n",
            "--------------------------------------------------------------------------------\n",
            "3 fits failed with the following error:\n",
            "Traceback (most recent call last):\n",
            "  File \"/usr/local/lib/python3.10/dist-packages/sklearn/model_selection/_validation.py\", line 888, in _fit_and_score\n",
            "    estimator.fit(X_train, y_train, **fit_params)\n",
            "  File \"/usr/local/lib/python3.10/dist-packages/sklearn/base.py\", line 1466, in wrapper\n",
            "    estimator._validate_params()\n",
            "  File \"/usr/local/lib/python3.10/dist-packages/sklearn/base.py\", line 666, in _validate_params\n",
            "    validate_parameter_constraints(\n",
            "  File \"/usr/local/lib/python3.10/dist-packages/sklearn/utils/_param_validation.py\", line 95, in validate_parameter_constraints\n",
            "    raise InvalidParameterError(\n",
            "sklearn.utils._param_validation.InvalidParameterError: The 'max_features' parameter of ExtraTreesClassifier must be an int in the range [1, inf), a float in the range (0.0, 1.0], a str among {'sqrt', 'log2'} or None. Got 'auto' instead.\n",
            "\n",
            "  warnings.warn(some_fits_failed_message, FitFailedWarning)\n",
            "/usr/local/lib/python3.10/dist-packages/sklearn/model_selection/_search.py:1103: UserWarning: One or more of the test scores are non-finite: [0.62136933 0.61765695 0.60987291 0.63513843        nan 0.63820848\n",
            " 0.62755828 0.63754394 0.64329852 0.62250826 0.63717748        nan\n",
            " 0.61998306        nan        nan 0.62980547 0.641752   0.63433647\n",
            " 0.63536711 0.62360115]\n",
            "  warnings.warn(\n"
          ]
        },
        {
          "output_type": "stream",
          "name": "stdout",
          "text": [
            "Best Parameters: {'n_estimators': 100, 'min_samples_split': 5, 'min_samples_leaf': 2, 'max_features': 'sqrt', 'max_depth': None, 'bootstrap': True}\n",
            "Evaluation Metrics: {'Accuracy Mean': 0.637, 'Accuracy STD': 0.0513, 'Precision Mean': 0.6567, 'Precision STD': 0.0591, 'Recall Mean': 0.6324, 'Recall STD': 0.0516, 'F1 Mean': 0.6382, 'F1 STD': 0.0526}\n"
          ]
        }
      ]
    },
    {
      "cell_type": "code",
      "source": [
        "from sklearn.naive_bayes import GaussianNB\n",
        "from sklearn.model_selection import RandomizedSearchCV, StratifiedKFold, cross_validate\n",
        "\n",
        "# Define the Naive Bayes model\n",
        "naive_bayes_model = GaussianNB()\n",
        "\n",
        "# Since Naive Bayes has fewer hyperparameters compared to other models,\n",
        "# we can define a simple parameter grid for tuning.\n",
        "param_distributions = {\n",
        "    'var_smoothing': [1e-9, 1e-8, 1e-7, 1e-6, 1e-5]  # Smoothing parameter\n",
        "}\n",
        "\n",
        "# Set up the RandomizedSearchCV\n",
        "random_search_nb = RandomizedSearchCV(\n",
        "    estimator=naive_bayes_model,\n",
        "    param_distributions=param_distributions,\n",
        "    n_iter=10,  # Number of random combinations to try\n",
        "    cv=10,  # 10-fold cross-validation\n",
        "    scoring='f1_macro',  # Change this to any other scoring metric if needed\n",
        "    random_state=42,\n",
        "    n_jobs=-1\n",
        ")\n",
        "\n",
        "# Fit the model to find the best parameters\n",
        "random_search_nb.fit(X_train, y_train)\n",
        "\n",
        "# Output the best parameters\n",
        "print(\"Best Parameters for Naive Bayes:\", random_search_nb.best_params_)\n",
        "\n",
        "best_naive_bayes = random_search_nb.best_estimator_\n",
        "\n",
        "# Use StratifiedKFold for cross-validation\n",
        "cv_nb = StratifiedKFold(n_splits=10)\n",
        "\n",
        "# Perform cross-validation on the best model using StratifiedKFold\n",
        "cv_score_nb = cross_validate(best_naive_bayes, X_train, y_train, cv=cv_nb,\n",
        "                             scoring=['accuracy', 'precision_macro', 'recall_macro', 'f1_macro'],\n",
        "                             return_train_score=False)\n",
        "\n",
        "# Collect and round the results\n",
        "results_nb = {\n",
        "    'Accuracy Mean': round(cv_score_nb['test_accuracy'].mean(), 4),\n",
        "    'Accuracy STD': round(cv_score_nb['test_accuracy'].std(), 4),\n",
        "    'Precision Mean': round(cv_score_nb['test_precision_macro'].mean(), 4),\n",
        "    'Precision STD': round(cv_score_nb['test_precision_macro'].std(), 4),\n",
        "    'Recall Mean': round(cv_score_nb['test_recall_macro'].mean(), 4),\n",
        "    'Recall STD': round(cv_score_nb['test_recall_macro'].std(), 4),\n",
        "    'F1 Mean': round(cv_score_nb['test_f1_macro'].mean(), 4),\n",
        "    'F1 STD': round(cv_score_nb['test_f1_macro'].std(), 4),\n",
        "}\n",
        "\n",
        "# Print the evaluation metrics\n",
        "print(\"Evaluation Metrics for Naive Bayes:\", results_nb)\n"
      ],
      "metadata": {
        "colab": {
          "base_uri": "https://localhost:8080/"
        },
        "id": "tPIIjAKKmH3P",
        "outputId": "e23b1a1f-5923-4380-ab91-7f88cd5dd402"
      },
      "execution_count": null,
      "outputs": [
        {
          "output_type": "stream",
          "name": "stderr",
          "text": [
            "/usr/local/lib/python3.10/dist-packages/sklearn/model_selection/_search.py:320: UserWarning: The total space of parameters 5 is smaller than n_iter=10. Running 5 iterations. For exhaustive searches, use GridSearchCV.\n",
            "  warnings.warn(\n"
          ]
        },
        {
          "output_type": "stream",
          "name": "stdout",
          "text": [
            "Best Parameters for Naive Bayes: {'var_smoothing': 1e-09}\n",
            "Evaluation Metrics for Naive Bayes: {'Accuracy Mean': 0.5216, 'Accuracy STD': 0.0378, 'Precision Mean': 0.5329, 'Precision STD': 0.0415, 'Recall Mean': 0.5473, 'Recall STD': 0.0377, 'F1 Mean': 0.5166, 'F1 STD': 0.0401}\n"
          ]
        }
      ]
    },
    {
      "cell_type": "code",
      "execution_count": null,
      "metadata": {
        "colab": {
          "base_uri": "https://localhost:8080/"
        },
        "id": "LN9tbmhSYyL9",
        "outputId": "378b9fb6-8caa-4056-a75b-15dd0d259327"
      },
      "outputs": [
        {
          "name": "stdout",
          "output_type": "stream",
          "text": [
            "Naive Bayes Evaluation Metrics: {'Accuracy Mean': 0.5585, 'Accuracy STD': 0.0304, 'Precision Mean': 0.5577, 'Precision STD': 0.0353, 'Recall Mean': 0.5585, 'Recall STD': 0.0304, 'F1 Mean': 0.5464, 'F1 STD': 0.0346}\n"
          ]
        }
      ],
      "source": [
        "from sklearn.naive_bayes import GaussianNB\n",
        "\n",
        "nb = GaussianNB()\n",
        "\n",
        "# No hyperparameters to tune, so we can fit and evaluate directly\n",
        "nb.fit(X_train, y_train)\n",
        "\n",
        "# Perform cross-validation on the model\n",
        "cv_score = cross_validate(nb, X_train, y_train, cv=10, scoring=['accuracy', 'precision_macro', 'recall_macro', 'f1_macro'], return_train_score=False)\n",
        "from sklearn.naive_bayes import GaussianNB\n",
        "from sklearn.model_selection import StratifiedKFold, cross_validate\n",
        "from sklearn.preprocessing import StandardScaler\n",
        "from imblearn.over_sampling import SMOTE\n",
        "\n",
        "# Step 1: Scale the features\n",
        "scaler = StandardScaler()\n",
        "X_train_scaled = scaler.fit_transform(X_train)\n",
        "\n",
        "# Step 2: Handle class imbalance using SMOTE\n",
        "smote = SMOTE(random_state=42)\n",
        "X_train_resampled, y_train_resampled = smote.fit_resample(X_train_scaled, y_train)\n",
        "\n",
        "# Step 3: Train the Naive Bayes model\n",
        "nb = GaussianNB(var_smoothing=1e-9)  # Apply Laplace smoothing\n",
        "nb.fit(X_train_resampled, y_train_resampled)\n",
        "\n",
        "# Step 4: Evaluate using Stratified K-Fold Cross-Validation\n",
        "skf = StratifiedKFold(n_splits=10)\n",
        "\n",
        "cv_score = cross_validate(nb, X_train_resampled, y_train_resampled, cv=skf,\n",
        "                          scoring=['accuracy', 'precision_macro', 'recall_macro', 'f1_macro'],\n",
        "                          return_train_score=False)\n",
        "\n",
        "# Collect and round the results\n",
        "results = {\n",
        "    'Accuracy Mean': round(cv_score['test_accuracy'].mean(), 4),\n",
        "    'Accuracy STD': round(cv_score['test_accuracy'].std(), 4),\n",
        "    'Precision Mean': round(cv_score['test_precision_macro'].mean(), 4),\n",
        "    'Precision STD': round(cv_score['test_precision_macro'].std(), 4),\n",
        "    'Recall Mean': round(cv_score['test_recall_macro'].mean(), 4),\n",
        "    'Recall STD': round(cv_score['test_recall_macro'].std(), 4),\n",
        "    'F1 Mean': round(cv_score['test_f1_macro'].mean(), 4),\n",
        "    'F1 STD': round(cv_score['test_f1_macro'].std(), 4),\n",
        "}\n",
        "\n",
        "print(\"Naive Bayes Evaluation Metrics:\", results)\n",
        "\n"
      ]
    },
    {
      "cell_type": "code",
      "execution_count": null,
      "metadata": {
        "colab": {
          "base_uri": "https://localhost:8080/"
        },
        "id": "NabPG5DvZSLc",
        "outputId": "ee56740e-1452-4871-f841-9228cda2e606"
      },
      "outputs": [
        {
          "name": "stdout",
          "output_type": "stream",
          "text": [
            "Best Parameters: {'n_estimators': 100, 'min_samples_split': 10, 'min_samples_leaf': 1, 'max_features': 'sqrt', 'max_depth': 20, 'class_weight': 'balanced', 'bootstrap': True}\n",
            "Evaluation Metrics: {'Accuracy Mean': 0.6332, 'Accuracy STD': 0.0176, 'Precision Mean': 0.6477, 'Precision STD': 0.0294, 'Recall Mean': 0.6307, 'Recall STD': 0.0197, 'F1 Mean': 0.6357, 'F1 STD': 0.0208}\n"
          ]
        }
      ],
      "source": [
        "\n",
        "from sklearn.ensemble import RandomForestClassifier\n",
        "from sklearn.model_selection import RandomizedSearchCV\n",
        "from sklearn.model_selection import StratifiedKFold\n",
        "\n",
        "# Define the Random Forest model\n",
        "rf = RandomForestClassifier(random_state=42)\n",
        "\n",
        "# Set up the parameter grid for RandomizedSearchCV\n",
        "param_distributions = {\n",
        "    'n_estimators': [100, 200],\n",
        "    'max_depth': [None, 10, 20],\n",
        "    'min_samples_split': [2, 5,10],\n",
        "    'min_samples_leaf': [1, 2],\n",
        "    'max_features': ['sqrt'],\n",
        "    'bootstrap': [True,False],\n",
        "    'class_weight': ['balanced']\n",
        "}\n",
        "\n",
        "# Set up RandomizedSearchCV\n",
        "random_search = RandomizedSearchCV(\n",
        "    estimator=rf,\n",
        "    param_distributions=param_distributions,\n",
        "    n_iter=5,\n",
        "    cv=StratifiedKFold(n_splits=5),\n",
        "    scoring='f1_macro',\n",
        "    random_state=42,\n",
        "    n_jobs=-1\n",
        ")\n",
        "\n",
        "# Fit the RandomizedSearchCV\n",
        "random_search.fit(X_train, y_train)\n",
        "\n",
        "# Output best parameters and score\n",
        "print(\"Best Parameters:\", random_search.best_params_)\n",
        "\n",
        "# Get the best model\n",
        "best_rf = random_search.best_estimator_\n",
        "\n",
        "# Perform cross-validation on the best Random Forest model\n",
        "cv_score = cross_validate(best_rf, X_train, y_train, cv=5,\n",
        "                          scoring=['accuracy', 'precision_macro', 'recall_macro', 'f1_macro'], return_train_score=False)\n",
        "\n",
        "# Collect and round the results\n",
        "results = {\n",
        "    'Accuracy Mean': round(cv_score['test_accuracy'].mean(), 4),\n",
        "    'Accuracy STD': round(cv_score['test_accuracy'].std(), 4),\n",
        "    'Precision Mean': round(cv_score['test_precision_macro'].mean(), 4),\n",
        "    'Precision STD': round(cv_score['test_precision_macro'].std(), 4),\n",
        "    'Recall Mean': round(cv_score['test_recall_macro'].mean(), 4),\n",
        "    'Recall STD': round(cv_score['test_recall_macro'].std(), 4),\n",
        "    'F1 Mean': round(cv_score['test_f1_macro'].mean(), 4),\n",
        "    'F1 STD': round(cv_score['test_f1_macro'].std(), 4),\n",
        "}\n",
        "\n",
        "# Print the evaluation metrics\n",
        "print(\"Evaluation Metrics:\", results)\n"
      ]
    },
    {
      "cell_type": "code",
      "execution_count": null,
      "metadata": {
        "colab": {
          "base_uri": "https://localhost:8080/"
        },
        "id": "qYsL85q-Z3eX",
        "outputId": "71f02606-d293-49ea-fe1a-3dc302c750e0"
      },
      "outputs": [
        {
          "name": "stdout",
          "output_type": "stream",
          "text": [
            "Logistic Regression Best Parameters: {'penalty': 'l2', 'C': 0.01}\n",
            "Logistic Regression Evaluation Metrics: {'Accuracy Mean': 0.6258, 'Accuracy STD': 0.0307, 'Precision Mean': 0.6265, 'Precision STD': 0.0322, 'Recall Mean': 0.6365, 'Recall STD': 0.033, 'F1 Mean': 0.6273, 'F1 STD': 0.0321}\n"
          ]
        }
      ],
      "source": [
        "from sklearn.linear_model import LogisticRegression\n",
        "\n",
        "# Define the Logistic Regression model\n",
        "log_reg = LogisticRegression(solver='liblinear', random_state=42)\n",
        "\n",
        "# Set up the parameter grid for RandomizedSearchCV\n",
        "param_distributions = {\n",
        "    'penalty': ['l1', 'l2'],\n",
        "    'C': [0.01, 0.1, 1.0, 10.0],\n",
        "}\n",
        "\n",
        "# Set up the RandomizedSearchCV\n",
        "random_search = RandomizedSearchCV(\n",
        "    estimator=log_reg,\n",
        "    param_distributions=param_distributions,\n",
        "    n_iter=5,\n",
        "    cv=10,\n",
        "    scoring='f1_macro',\n",
        "    random_state=42,\n",
        "    n_jobs=-1\n",
        ")\n",
        "\n",
        "random_search.fit(X_train, y_train)\n",
        "\n",
        "print(\"Logistic Regression Best Parameters:\", random_search.best_params_)\n",
        "\n",
        "# Perform cross-validation on the best model\n",
        "best_log_reg = random_search.best_estimator_\n",
        "cv_score = cross_validate(best_log_reg, X_train, y_train, cv=10, scoring=['accuracy', 'precision_macro', 'recall_macro', 'f1_macro'], return_train_score=False)\n",
        "\n",
        "# Collect and round the results\n",
        "results = {\n",
        "    'Accuracy Mean': round(cv_score['test_accuracy'].mean(), 4),\n",
        "    'Accuracy STD': round(cv_score['test_accuracy'].std(), 4),\n",
        "    'Precision Mean': round(cv_score['test_precision_macro'].mean(), 4),\n",
        "    'Precision STD': round(cv_score['test_precision_macro'].std(), 4),\n",
        "    'Recall Mean': round(cv_score['test_recall_macro'].mean(), 4),\n",
        "    'Recall STD': round(cv_score['test_recall_macro'].std(), 4),\n",
        "    'F1 Mean': round(cv_score['test_f1_macro'].mean(), 4),\n",
        "    'F1 STD': round(cv_score['test_f1_macro'].std(), 4),\n",
        "}\n",
        "\n",
        "print(\"Logistic Regression Evaluation Metrics:\", results)\n"
      ]
    },
    {
      "cell_type": "code",
      "execution_count": null,
      "metadata": {
        "colab": {
          "background_save": true
        },
        "id": "kiXrb2Ksay9N",
        "outputId": "b4951e93-d4a0-4e86-d1eb-90cbc5011986"
      },
      "outputs": [
        {
          "name": "stderr",
          "output_type": "stream",
          "text": [
            "/usr/local/lib/python3.10/dist-packages/sklearn/ensemble/_weight_boosting.py:527: FutureWarning: The SAMME.R algorithm (the default) is deprecated and will be removed in 1.6. Use the SAMME algorithm to circumvent this warning.\n",
            "  warnings.warn(\n"
          ]
        },
        {
          "name": "stdout",
          "output_type": "stream",
          "text": [
            "AdaBoost Best Parameters: {'n_estimators': 50, 'learning_rate': 1.0, 'estimator__max_depth': 7}\n"
          ]
        },
        {
          "name": "stderr",
          "output_type": "stream",
          "text": [
            "/usr/local/lib/python3.10/dist-packages/sklearn/ensemble/_weight_boosting.py:527: FutureWarning: The SAMME.R algorithm (the default) is deprecated and will be removed in 1.6. Use the SAMME algorithm to circumvent this warning.\n",
            "  warnings.warn(\n",
            "/usr/local/lib/python3.10/dist-packages/sklearn/ensemble/_weight_boosting.py:527: FutureWarning: The SAMME.R algorithm (the default) is deprecated and will be removed in 1.6. Use the SAMME algorithm to circumvent this warning.\n",
            "  warnings.warn(\n",
            "/usr/local/lib/python3.10/dist-packages/sklearn/ensemble/_weight_boosting.py:527: FutureWarning: The SAMME.R algorithm (the default) is deprecated and will be removed in 1.6. Use the SAMME algorithm to circumvent this warning.\n",
            "  warnings.warn(\n",
            "/usr/local/lib/python3.10/dist-packages/sklearn/ensemble/_weight_boosting.py:527: FutureWarning: The SAMME.R algorithm (the default) is deprecated and will be removed in 1.6. Use the SAMME algorithm to circumvent this warning.\n",
            "  warnings.warn(\n",
            "/usr/local/lib/python3.10/dist-packages/sklearn/ensemble/_weight_boosting.py:527: FutureWarning: The SAMME.R algorithm (the default) is deprecated and will be removed in 1.6. Use the SAMME algorithm to circumvent this warning.\n",
            "  warnings.warn(\n"
          ]
        },
        {
          "name": "stdout",
          "output_type": "stream",
          "text": [
            "AdaBoost Evaluation Metrics: {'Accuracy Mean': 0.6987, 'Accuracy STD': 0.0313, 'Precision Mean': 0.7038, 'Precision STD': 0.0237, 'Recall Mean': 0.6987, 'Recall STD': 0.0313, 'F1 Mean': 0.6976, 'F1 STD': 0.0245}\n"
          ]
        }
      ],
      "source": [
        "from sklearn.ensemble import AdaBoostClassifier\n",
        "from sklearn.tree import DecisionTreeClassifier\n",
        "from sklearn.model_selection import RandomizedSearchCV, StratifiedKFold, cross_validate\n",
        "from sklearn.preprocessing import StandardScaler\n",
        "from imblearn.over_sampling import SMOTE\n",
        "\n",
        "\n",
        "\n",
        "base_estimator = DecisionTreeClassifier(max_depth=3, random_state=42)\n",
        "\n",
        "ada = AdaBoostClassifier(\n",
        "    estimator=base_estimator,\n",
        "    random_state=42\n",
        ")\n",
        "\n",
        "param_distributions = {\n",
        "    'n_estimators': [50, 100, 200],  # Number of boosting rounds (trees)\n",
        "    'learning_rate': [0.01, 0.1, 1.0],  # How much each estimator contributes\n",
        "    'estimator__max_depth': [3, 5, 7]  # Max depth of the decision tree (base estimator)\n",
        "}\n",
        "\n",
        "\n",
        "\n",
        "random_search = RandomizedSearchCV(\n",
        "    estimator=ada,\n",
        "    param_distributions=param_distributions,\n",
        "    n_iter=10,\n",
        "    cv=10,\n",
        "    scoring='f1_macro',\n",
        "    random_state=42,\n",
        "    n_jobs=-1\n",
        ")\n",
        "\n",
        "random_search.fit(X_train, y_train)\n",
        "\n",
        "print(\"AdaBoost Best Parameters:\", random_search.best_params_)\n",
        "\n",
        "best_ada = random_search.best_estimator_\n",
        "cv_score = cross_validate(\n",
        "    best_ada, X_train, y_train, cv=10, scoring=['accuracy', 'precision_macro', 'recall_macro', 'f1_macro'], return_train_score=False\n",
        ")\n",
        "results = {\n",
        "    'Accuracy Mean': round(cv_score['test_accuracy'].mean(), 4),\n",
        "    'Accuracy STD': round(cv_score['test_accuracy'].std(), 4),\n",
        "    'Precision Mean': round(cv_score['test_precision_macro'].mean(), 4),\n",
        "    'Precision STD': round(cv_score['test_precision_macro'].std(), 4),\n",
        "    'Recall Mean': round(cv_score['test_recall_macro'].mean(), 4),\n",
        "    'Recall STD': round(cv_score['test_recall_macro'].std(), 4),\n",
        "    'F1 Mean': round(cv_score['test_f1_macro'].mean(), 4),\n",
        "    'F1 STD': round(cv_score['test_f1_macro'].std(), 4),\n",
        "}\n",
        "\n",
        "# Print the evaluation metrics\n",
        "print(\"AdaBoost Evaluation Metrics:\", results)\n"
      ]
    },
    {
      "cell_type": "code",
      "source": [
        "!pip install catboost"
      ],
      "metadata": {
        "colab": {
          "base_uri": "https://localhost:8080/"
        },
        "id": "dnYoSxeFXli0",
        "outputId": "3433f9c9-66e7-4ca1-afef-82c1c053066b"
      },
      "execution_count": null,
      "outputs": [
        {
          "output_type": "stream",
          "name": "stdout",
          "text": [
            "Collecting catboost\n",
            "  Downloading catboost-1.2.7-cp310-cp310-manylinux2014_x86_64.whl.metadata (1.2 kB)\n",
            "Requirement already satisfied: graphviz in /usr/local/lib/python3.10/dist-packages (from catboost) (0.20.3)\n",
            "Requirement already satisfied: matplotlib in /usr/local/lib/python3.10/dist-packages (from catboost) (3.7.1)\n",
            "Requirement already satisfied: numpy<2.0,>=1.16.0 in /usr/local/lib/python3.10/dist-packages (from catboost) (1.26.4)\n",
            "Requirement already satisfied: pandas>=0.24 in /usr/local/lib/python3.10/dist-packages (from catboost) (2.2.2)\n",
            "Requirement already satisfied: scipy in /usr/local/lib/python3.10/dist-packages (from catboost) (1.13.1)\n",
            "Requirement already satisfied: plotly in /usr/local/lib/python3.10/dist-packages (from catboost) (5.24.1)\n",
            "Requirement already satisfied: six in /usr/local/lib/python3.10/dist-packages (from catboost) (1.16.0)\n",
            "Requirement already satisfied: python-dateutil>=2.8.2 in /usr/local/lib/python3.10/dist-packages (from pandas>=0.24->catboost) (2.8.2)\n",
            "Requirement already satisfied: pytz>=2020.1 in /usr/local/lib/python3.10/dist-packages (from pandas>=0.24->catboost) (2024.2)\n",
            "Requirement already satisfied: tzdata>=2022.7 in /usr/local/lib/python3.10/dist-packages (from pandas>=0.24->catboost) (2024.2)\n",
            "Requirement already satisfied: contourpy>=1.0.1 in /usr/local/lib/python3.10/dist-packages (from matplotlib->catboost) (1.3.0)\n",
            "Requirement already satisfied: cycler>=0.10 in /usr/local/lib/python3.10/dist-packages (from matplotlib->catboost) (0.12.1)\n",
            "Requirement already satisfied: fonttools>=4.22.0 in /usr/local/lib/python3.10/dist-packages (from matplotlib->catboost) (4.54.1)\n",
            "Requirement already satisfied: kiwisolver>=1.0.1 in /usr/local/lib/python3.10/dist-packages (from matplotlib->catboost) (1.4.7)\n",
            "Requirement already satisfied: packaging>=20.0 in /usr/local/lib/python3.10/dist-packages (from matplotlib->catboost) (24.1)\n",
            "Requirement already satisfied: pillow>=6.2.0 in /usr/local/lib/python3.10/dist-packages (from matplotlib->catboost) (10.4.0)\n",
            "Requirement already satisfied: pyparsing>=2.3.1 in /usr/local/lib/python3.10/dist-packages (from matplotlib->catboost) (3.2.0)\n",
            "Requirement already satisfied: tenacity>=6.2.0 in /usr/local/lib/python3.10/dist-packages (from plotly->catboost) (9.0.0)\n",
            "Downloading catboost-1.2.7-cp310-cp310-manylinux2014_x86_64.whl (98.7 MB)\n",
            "\u001b[2K   \u001b[90m━━━━━━━━━━━━━━━━━━━━━━━━━━━━━━━━━━━━━━━━\u001b[0m \u001b[32m98.7/98.7 MB\u001b[0m \u001b[31m5.5 MB/s\u001b[0m eta \u001b[36m0:00:00\u001b[0m\n",
            "\u001b[?25hInstalling collected packages: catboost\n",
            "Successfully installed catboost-1.2.7\n"
          ]
        }
      ]
    },
    {
      "cell_type": "code",
      "source": [],
      "metadata": {
        "id": "5PZCYdo6YLEG"
      },
      "execution_count": null,
      "outputs": []
    },
    {
      "cell_type": "code",
      "source": [
        "#pca\n",
        "import pandas as pd\n",
        "from sklearn.preprocessing import StandardScaler\n",
        "from sklearn.decomposition import PCA\n",
        "from sklearn.model_selection import train_test_split\n",
        "from sklearn.ensemble import RandomForestClassifier\n",
        "from sklearn.metrics import accuracy_score\n",
        "from sklearn.model_selection import RandomizedSearchCV, StratifiedKFold, cross_validate\n",
        "\n",
        "# Load the dataset\n",
        "data = pd.read_excel('bart_embeddings.xlsx')\n",
        "\n",
        "# Assume the last column is the target variable\n",
        "X = data.iloc[:, :-1]  # Features\n",
        "y = data.iloc[:, -1]   # Target\n",
        "\n",
        "# Scale the features\n",
        "X_scaled = StandardScaler().fit_transform(X)\n",
        "\n",
        "# Apply PCA to retain 99.99% of variance\n",
        "pca = PCA(n_components=0.9999)\n",
        "X_pca = pca.fit_transform(X_scaled)\n",
        "\n",
        "# Split the data into training and testing sets\n",
        "X_train, X_test, y_train, y_test = train_test_split(X_pca, y, test_size=0.2, random_state=42)\n",
        "\n"
      ],
      "metadata": {
        "id": "CjqQggrWP4u0"
      },
      "execution_count": null,
      "outputs": []
    },
    {
      "cell_type": "code",
      "source": [
        "from sklearn.ensemble import GradientBoostingClassifier\n",
        "from sklearn.model_selection import RandomizedSearchCV, StratifiedKFold, cross_validate\n",
        "\n",
        "# Define the Gradient Boosting model\n",
        "gb_model = GradientBoostingClassifier()\n",
        "\n",
        "# Set up the parameter grid for RandomizedSearchCV\n",
        "param_distributions = {\n",
        "    'n_estimators': [50, 100, 150, 200],\n",
        "    'learning_rate': [0.01, 0.1, 0.2, 0.3],\n",
        "    'max_depth': [3, 4, 5, 6],\n",
        "    'subsample': [0.8, 1.0],\n",
        "    'max_features': ['auto', 'sqrt', 'log2']\n",
        "}\n",
        "\n",
        "# Set up the RandomizedSearchCV\n",
        "random_search = RandomizedSearchCV(\n",
        "    estimator=gb_model,\n",
        "    param_distributions=param_distributions,\n",
        "    n_iter=20,  # Number of random combinations to try\n",
        "    cv=10,  # 10-fold cross-validation\n",
        "    scoring='f1_macro',  # Change this to any other scoring metric if needed\n",
        "    random_state=42,\n",
        "    n_jobs=-1\n",
        ")\n",
        "\n",
        "# Fit the model to find the best parameters\n",
        "random_search.fit(X_train, y_train)\n",
        "\n",
        "# Output the best parameters\n",
        "print(\"Best Parameters:\", random_search.best_params_)\n",
        "\n",
        "best_gb = random_search.best_estimator_\n",
        "\n",
        "# Use StratifiedKFold for cross-validation\n",
        "cv = StratifiedKFold(n_splits=10)\n",
        "\n",
        "# Perform cross-validation on the best model using StratifiedKFold\n",
        "cv_score = cross_validate(best_gb, X_train, y_train, cv=cv,\n",
        "                          scoring=['accuracy', 'precision_macro', 'recall_macro', 'f1_macro'],\n",
        "                          return_train_score=False)\n",
        "\n",
        "# Collect and round the results\n",
        "results = {\n",
        "    'Accuracy Mean': round(cv_score['test_accuracy'].mean(), 4),\n",
        "    'Accuracy STD': round(cv_score['test_accuracy'].std(), 4),\n",
        "    'Precision Mean': round(cv_score['test_precision_macro'].mean(), 4),\n",
        "    'Precision STD': round(cv_score['test_precision_macro'].std(), 4),\n",
        "    'Recall Mean': round(cv_score['test_recall_macro'].mean(), 4),\n",
        "    'Recall STD': round(cv_score['test_recall_macro'].std(), 4),\n",
        "    'F1 Mean': round(cv_score['test_f1_macro'].mean(), 4),\n",
        "    'F1 STD': round(cv_score['test_f1_macro'].std(), 4),\n",
        "}\n",
        "\n",
        "# Print the evaluation metrics\n",
        "print(\"Evaluation Metrics:\", results)\n"
      ],
      "metadata": {
        "colab": {
          "base_uri": "https://localhost:8080/"
        },
        "id": "O7-k4rtNQjvQ",
        "outputId": "069f1ddf-e334-4287-8019-b6cbe9880ab9"
      },
      "execution_count": null,
      "outputs": [
        {
          "output_type": "stream",
          "name": "stderr",
          "text": [
            "/usr/local/lib/python3.10/dist-packages/sklearn/model_selection/_validation.py:540: FitFailedWarning: \n",
            "70 fits failed out of a total of 200.\n",
            "The score on these train-test partitions for these parameters will be set to nan.\n",
            "If these failures are not expected, you can try to debug them by setting error_score='raise'.\n",
            "\n",
            "Below are more details about the failures:\n",
            "--------------------------------------------------------------------------------\n",
            "35 fits failed with the following error:\n",
            "Traceback (most recent call last):\n",
            "  File \"/usr/local/lib/python3.10/dist-packages/sklearn/model_selection/_validation.py\", line 888, in _fit_and_score\n",
            "    estimator.fit(X_train, y_train, **fit_params)\n",
            "  File \"/usr/local/lib/python3.10/dist-packages/sklearn/base.py\", line 1466, in wrapper\n",
            "    estimator._validate_params()\n",
            "  File \"/usr/local/lib/python3.10/dist-packages/sklearn/base.py\", line 666, in _validate_params\n",
            "    validate_parameter_constraints(\n",
            "  File \"/usr/local/lib/python3.10/dist-packages/sklearn/utils/_param_validation.py\", line 95, in validate_parameter_constraints\n",
            "    raise InvalidParameterError(\n",
            "sklearn.utils._param_validation.InvalidParameterError: The 'max_features' parameter of GradientBoostingClassifier must be an int in the range [1, inf), a float in the range (0.0, 1.0], a str among {'log2', 'sqrt'} or None. Got 'auto' instead.\n",
            "\n",
            "--------------------------------------------------------------------------------\n",
            "35 fits failed with the following error:\n",
            "Traceback (most recent call last):\n",
            "  File \"/usr/local/lib/python3.10/dist-packages/sklearn/model_selection/_validation.py\", line 888, in _fit_and_score\n",
            "    estimator.fit(X_train, y_train, **fit_params)\n",
            "  File \"/usr/local/lib/python3.10/dist-packages/sklearn/base.py\", line 1466, in wrapper\n",
            "    estimator._validate_params()\n",
            "  File \"/usr/local/lib/python3.10/dist-packages/sklearn/base.py\", line 666, in _validate_params\n",
            "    validate_parameter_constraints(\n",
            "  File \"/usr/local/lib/python3.10/dist-packages/sklearn/utils/_param_validation.py\", line 95, in validate_parameter_constraints\n",
            "    raise InvalidParameterError(\n",
            "sklearn.utils._param_validation.InvalidParameterError: The 'max_features' parameter of GradientBoostingClassifier must be an int in the range [1, inf), a float in the range (0.0, 1.0], a str among {'sqrt', 'log2'} or None. Got 'auto' instead.\n",
            "\n",
            "  warnings.warn(some_fits_failed_message, FitFailedWarning)\n",
            "/usr/local/lib/python3.10/dist-packages/sklearn/model_selection/_search.py:1103: UserWarning: One or more of the test scores are non-finite: [       nan 0.56036536 0.53046743 0.53283863 0.3396628  0.52738959\n",
            " 0.302019   0.5276558  0.55673266 0.53746187        nan 0.55320263\n",
            "        nan 0.56646414 0.57789297        nan 0.55463485        nan\n",
            "        nan        nan]\n",
            "  warnings.warn(\n"
          ]
        },
        {
          "output_type": "stream",
          "name": "stdout",
          "text": [
            "Best Parameters: {'subsample': 0.8, 'n_estimators': 200, 'max_features': 'sqrt', 'max_depth': 3, 'learning_rate': 0.1}\n",
            "Evaluation Metrics: {'Accuracy Mean': 0.5775, 'Accuracy STD': 0.0466, 'Precision Mean': 0.5945, 'Precision STD': 0.053, 'Recall Mean': 0.5673, 'Recall STD': 0.0458, 'F1 Mean': 0.5747, 'F1 STD': 0.0475}\n"
          ]
        }
      ]
    },
    {
      "cell_type": "code",
      "source": [
        "from sklearn.ensemble import ExtraTreesClassifier\n",
        "from sklearn.model_selection import RandomizedSearchCV, StratifiedKFold, cross_validate\n",
        "\n",
        "# Define the Extra Trees model\n",
        "extra_trees_model = ExtraTreesClassifier()\n",
        "\n",
        "# Set up the parameter grid for RandomizedSearchCV\n",
        "param_distributions = {\n",
        "    'n_estimators': [50, 100, 150, 200],\n",
        "    'max_features': ['auto', 'sqrt', 'log2'],\n",
        "    'max_depth': [None, 10, 20, 30],\n",
        "    'min_samples_split': [2, 5, 10],\n",
        "    'min_samples_leaf': [1, 2, 4],\n",
        "    'bootstrap': [False, True]\n",
        "}\n",
        "\n",
        "# Set up the RandomizedSearchCV\n",
        "random_search = RandomizedSearchCV(\n",
        "    estimator=extra_trees_model,\n",
        "    param_distributions=param_distributions,\n",
        "    n_iter=20,  # Number of random combinations to try\n",
        "    cv=10,  # 10-fold cross-validation\n",
        "    scoring='f1_macro',  # Change this to any other scoring metric if needed\n",
        "    random_state=42,\n",
        "    n_jobs=-1\n",
        ")\n",
        "\n",
        "# Fit the model to find the best parameters\n",
        "random_search.fit(X_train, y_train)\n",
        "\n",
        "# Output the best parameters\n",
        "print(\"Best Parameters:\", random_search.best_params_)\n",
        "\n",
        "best_extra_trees = random_search.best_estimator_\n",
        "\n",
        "# Use StratifiedKFold for cross-validation\n",
        "cv = StratifiedKFold(n_splits=10)\n",
        "\n",
        "# Perform cross-validation on the best model using StratifiedKFold\n",
        "cv_score = cross_validate(best_extra_trees, X_train, y_train, cv=cv,\n",
        "                          scoring=['accuracy', 'precision_macro', 'recall_macro', 'f1_macro'],\n",
        "                          return_train_score=False)\n",
        "\n",
        "# Collect and round the results\n",
        "results = {\n",
        "    'Accuracy Mean': round(cv_score['test_accuracy'].mean(), 4),\n",
        "    'Accuracy STD': round(cv_score['test_accuracy'].std(), 4),\n",
        "    'Precision Mean': round(cv_score['test_precision_macro'].mean(), 4),\n",
        "    'Precision STD': round(cv_score['test_precision_macro'].std(), 4),\n",
        "    'Recall Mean': round(cv_score['test_recall_macro'].mean(), 4),\n",
        "    'Recall STD': round(cv_score['test_recall_macro'].std(), 4),\n",
        "    'F1 Mean': round(cv_score['test_f1_macro'].mean(), 4),\n",
        "    'F1 STD': round(cv_score['test_f1_macro'].std(), 4),\n",
        "}\n",
        "\n",
        "# Print the evaluation metrics\n",
        "print(\"Evaluation Metrics:\", results)\n"
      ],
      "metadata": {
        "id": "g7xpehpxQmZ4"
      },
      "execution_count": null,
      "outputs": []
    },
    {
      "cell_type": "code",
      "execution_count": null,
      "metadata": {
        "colab": {
          "base_uri": "https://localhost:8080/",
          "height": 654
        },
        "id": "6UrqdV4XF1ud",
        "outputId": "dc067355-f6f8-46fe-95ab-6899a2315d37"
      },
      "outputs": [
        {
          "output_type": "display_data",
          "data": {
            "text/plain": [
              "<Figure size 1000x600 with 1 Axes>"
            ],
            "image/png": "[encoded data removed]"
          },
          "metadata": {}
        }
      ],
      "source": [
        "#bart\n",
        "\n",
        "import matplotlib.pyplot as plt\n",
        "import numpy as np\n",
        "models = ['SVM', 'KNN', 'Decision Tree', 'GaussianNB', 'RF', 'Logistic Regression',\n",
        "          'MLP', 'XGBoost','CatBoost', 'AdaBoost','ExtraTrees','GradientBoosting']\n",
        "mean_accuracy = [0.666, 0.6228, 0.5862, 0.5585, 0.6332, 0.6258, 0.6272, 0.6384,0.6414, 0.6987,0.637,0.6355]\n",
        "std_accuracy = [0.0375, 0.0507, 0.0633, 0.0304, 0.0176, 0.0307, 0.012, 0.0212,0.0376, 0.0313,0.0513,0.0349]\n",
        "\n",
        "plt.figure(figsize=(10, 6))\n",
        "bars = plt.bar(models, mean_accuracy, yerr=std_accuracy, capsize=5, color='skyblue', label='Mean Accuracy')\n",
        "\n",
        "plt.xlabel( 'Models')\n",
        "plt.ylabel('Accuracy')\n",
        "plt.title('Accuracy for Different Models')\n",
        "plt.xticks(rotation=45)\n",
        "# Add legend\n",
        "plt.legend(['Mean Accuracy', 'Standard Deviation'], loc='lower right')\n",
        "\n",
        "plt.show()\n"
      ]
    },
    {
      "cell_type": "code",
      "source": [
        "import matplotlib.pyplot as plt\n",
        "\n",
        "# Model names and corresponding accuracy data\n",
        "models = ['SVC', 'KNN', 'Decision Tree', 'GaussianNB', 'Random Forest', 'Logistic Regression',\n",
        "          'MLP', 'XGBoost', 'CatBoost', 'AdaBoost', 'Extra Trees', 'Gradient Boosting']\n",
        "mean_accuracy = [0.9774, 0.9786, 0.9732, 0.9732, 0.9673, 0.9726, 0.9768, 0.9696, 0.9768, 0.9631, 0.9714, 0.9643]\n",
        "std_accuracy = [0.0201, 0.0187, 0.0194, 0.0207, 0.02, 0.0201, 0.0173, 0.021, 0.0185, 0.0242, 0.0197, 0.0243]\n",
        "\n",
        "# Create a figure and axis object\n",
        "plt.figure(figsize=(12, 6))\n",
        "\n",
        "# Plot the bars with error bars\n",
        "bars = plt.bar(models, mean_accuracy, yerr=std_accuracy, capsize=5, color='skyblue')\n",
        "\n",
        "# Labeling\n",
        "plt.xlabel('Models')\n",
        "plt.ylabel('Accuracy')\n",
        "plt.title('Accuracy for Different Models')\n",
        "\n",
        "# Rotate the x-axis labels for better visibility\n",
        "plt.xticks(rotation=45, ha='right')\n",
        "\n",
        "# Add the legend\n",
        "plt.legend([bars], ['Mean Accuracy'], loc='lower right')\n",
        "\n",
        "# Show the plot\n",
        "plt.tight_layout()  # Adjust layout to prevent clipping\n",
        "plt.show()\n"
      ],
      "metadata": {
        "colab": {
          "base_uri": "https://localhost:8080/",
          "height": 569
        },
        "id": "TrVFd4kC5SG7",
        "outputId": "17bff09b-189c-4a1b-e336-e1f4270e2963"
      },
      "execution_count": null,
      "outputs": [
        {
          "output_type": "display_data",
          "data": {
            "text/plain": [
              "<Figure size 1200x600 with 1 Axes>"
            ],
            "image/png": "[encoded data removed]"
          },
          "metadata": {}
        }
      ]
    },
    {
      "cell_type": "code",
      "source": [
        "import pandas as pd\n",
        "import matplotlib.pyplot as plt\n",
        "\n",
        "# Load your data\n",
        "data = pd.read_excel('bart_embeddings.xlsx')\n",
        "\n",
        "# Assume the last column is the target variable (y)\n",
        "y = data.iloc[:, -1]   # Target variable\n",
        "\n",
        "# Count the occurrences of 0, 1, and 2 in the target variable\n",
        "counts = y.value_counts()\n",
        "\n",
        "# Map values to categories\n",
        "categories = {0: 'Incorrect', 1: 'Partially Correct', 2: 'Correct'}\n",
        "\n",
        "# Prepare the data for plotting\n",
        "labels = ['Incorrect', 'Partially Correct', 'Correct']\n",
        "counts_list = [counts.get(0, 0), counts.get(1, 0), counts.get(2, 0)]\n",
        "\n",
        "# Plotting the bar chart\n",
        "plt.bar(labels, counts_list, color=['darkblue', 'orange', 'green'])\n",
        "plt.xlabel('Answers')\n",
        "plt.ylabel('Count')\n",
        "plt.show()\n"
      ],
      "metadata": {
        "colab": {
          "base_uri": "https://localhost:8080/",
          "height": 449
        },
        "id": "LXHG59u0JlfK",
        "outputId": "53dca911-7963-423c-b212-b82473e426cf"
      },
      "execution_count": null,
      "outputs": [
        {
          "output_type": "display_data",
          "data": {
            "text/plain": [
              "<Figure size 640x480 with 1 Axes>"
            ],
            "image/png": "[encoded data removed]"
          },
          "metadata": {}
        }
      ]
    },
    {
      "cell_type": "code",
      "source": [
        "import matplotlib.pyplot as plt\n",
        "import numpy as np\n",
        "\n",
        "# Data for Training and Testing\n",
        "models = ['KNN', 'SVC', 'Decision Tree', 'Naive Bayes', 'Random Forest', 'Logistic Reg', 'MLP', 'XGBoost', 'CatBoost', 'AdaBoost', 'Extra Trees', 'Gradient Boosting']\n",
        "training_accuracy = [0.9426, 0.9649, 0.9583, 0.9226, 0.9657, 0.9702, 0.9637, 0.9589, 0.9595, 0.9473, 0.9607, 0.9589]\n",
        "testing_accuracy = [0.8443, 0.8923, 0.8, 0.8286, 0.8857, 0.8286, 0.8286, 0.9143, 0.8571, 0.8286, 0.8801, 0.8920 ]\n",
        "\n",
        "# Set up the plot\n",
        "x = np.arange(len(models))  # The label locations\n",
        "width = 0.35  # The width of the bars\n",
        "\n",
        "# Create the figure and axes\n",
        "fig, ax = plt.subplots(figsize=(12, 7))\n",
        "\n",
        "# Plot bars for Training and Testing Accuracy\n",
        "rects1 = ax.bar(x - width/2, training_accuracy, width, label='Training ', color='deepskyblue')\n",
        "rects2 = ax.bar(x + width/2, testing_accuracy, width, label='Testing ', color='orange')\n",
        "\n",
        "# Add some text for labels, title and custom x-axis tick labels\n",
        "ax.set_xlabel('Models')\n",
        "ax.set_ylabel('Accuracy')\n",
        "ax.set_title('Performance Comparison Between Models During Training and Testing')\n",
        "ax.set_xticks(x)\n",
        "ax.set_xticklabels(models, rotation=45, ha='right')\n",
        "ax.legend(loc='lower right')\n",
        "\n",
        "# Set y-axis limits to start from 0.5\n",
        "ax.set_ylim(0.5, 1)\n",
        "\n",
        "# Adjust layout to make room for labels\n",
        "fig.tight_layout()\n",
        "\n",
        "# Show the plot\n",
        "plt.show()\n"
      ],
      "metadata": {
        "colab": {
          "base_uri": "https://localhost:8080/",
          "height": 707
        },
        "id": "0tftQOQSa0Qe",
        "outputId": "3cbdf0c1-629e-448e-ea7c-e90d3123749e"
      },
      "execution_count": 2,
      "outputs": [
        {
          "output_type": "display_data",
          "data": {
            "text/plain": [
              "<Figure size 1200x700 with 1 Axes>"
            ],
            "image/png": "[encoded data removed]"
          },
          "metadata": {}
        }
      ]
    }
  ],
  "metadata": {
    "colab": {
      "provenance": [],
      "authorship_tag": "ABX9TyPNjhcwA3sw2O3EcnQPMbUH",
      "include_colab_link": true
    },
    "kernelspec": {
      "display_name": "Python 3",
      "name": "python3"
    },
    "language_info": {
      "name": "python"
    }
  },
  "nbformat": 4,
  "nbformat_minor": 0
}