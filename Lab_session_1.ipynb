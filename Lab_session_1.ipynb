{
  "nbformat": 4,
  "nbformat_minor": 0,
  "metadata": {
    "colab": {
      "provenance": []
    },
    "kernelspec": {
      "name": "python3",
      "display_name": "Python 3"
    },
    "language_info": {
      "name": "python"
    }
  },
  "cells": [
    {
      "cell_type": "code",
      "execution_count": 1,
      "metadata": {
        "colab": {
          "base_uri": "https://localhost:8080/"
        },
        "id": "JT97Jfwac_vv",
        "outputId": "98bf37b0-e5ff-4c3d-e1e3-c5c32dc8ad73"
      },
      "outputs": [
        {
          "output_type": "stream",
          "name": "stdout",
          "text": [
            "no of pairs= 2\n"
          ]
        }
      ],
      "source": [
        "list=[2,7,4,3,6]\n",
        "c=0\n",
        "for i in range(len(list)):\n",
        "    for j in range(i+1,len(list)):\n",
        "        if list[i]+list[j]==10:\n",
        "            c=c+1\n",
        "print(\"no of pairs=\",c)"
      ]
    },
    {
      "cell_type": "code",
      "source": [
        "list=[]\n",
        "x=int(input(\"enter no of numbers \"))\n",
        "if x<3:\n",
        "    print(\"Range determination not possible\")\n",
        "else:\n",
        "    for n in range(0,x):\n",
        "        n=int(input())\n",
        "        list.append(int(n))\n",
        "    list.sort()\n",
        "\n",
        "    print(list)\n",
        "    print(\"Range is\",list[x-1]-list[0])"
      ],
      "metadata": {
        "colab": {
          "base_uri": "https://localhost:8080/"
        },
        "id": "mfO8Oc3GduVi",
        "outputId": "9242ed4c-af96-4ed1-f544-d49bc080df24"
      },
      "execution_count": 2,
      "outputs": [
        {
          "output_type": "stream",
          "name": "stdout",
          "text": [
            "enter no of numbers 5\n",
            "5\n",
            "3\n",
            "8\n",
            "1\n",
            "0\n",
            "[0, 1, 3, 5, 8]\n",
            "Range is 8\n"
          ]
        }
      ]
    },
    {
      "cell_type": "code",
      "source": [
        "def matrix_mult(A, B):\n",
        "        n = len(A)\n",
        "        result = []\n",
        "        for i in range(n):\n",
        "            row = []\n",
        "            for j in range(n):\n",
        "                sum = 0\n",
        "                for k in range(n):\n",
        "                    sum += A[i][k] * B[k][j]\n",
        "                row.append(sum)\n",
        "            result.append(row)\n",
        "        return result\n",
        "def identity_matrix(n):\n",
        "        I = []\n",
        "        for i in range(n):\n",
        "            row = []\n",
        "            for j in range(n):\n",
        "                if i == j:\n",
        "                    row.append(1)\n",
        "                else:\n",
        "                    row.append(0)\n",
        "            I.append(row)\n",
        "        return I\n",
        "\n",
        "def power(A, m):\n",
        "        n = len(A)\n",
        "        if m == 0:\n",
        "            return identity_matrix(n)\n",
        "\n",
        "        result = A\n",
        "        for _ in range(m - 1):\n",
        "            result = matrix_mult(result, A)\n",
        "\n",
        "        return result\n",
        "print(\"enter no.of rows of matrix\")\n",
        "A=int(input())\n",
        "A=B\n",
        "M=[]\n",
        "ele=0\n",
        "for i in range(A):\n",
        "    r=[]\n",
        "    for j in range(B):\n",
        "        ele=int(input(\"enter element of matrix:\"))\n",
        "        r.append(ele)\n",
        "    M.append(r)\n",
        "m=int(input(\"enter m:\"))\n",
        "result=power(M,m)\n",
        "print(result)"
      ],
      "metadata": {
        "colab": {
          "base_uri": "https://localhost:8080/"
        },
        "id": "QnBYF73dd_-n",
        "outputId": "270ed826-2f8b-487e-fa14-16ae4a976978"
      },
      "execution_count": 17,
      "outputs": [
        {
          "output_type": "stream",
          "name": "stdout",
          "text": [
            "enter no.of rows of matrix\n",
            "2\n",
            "enter element of matrix:1\n",
            "enter element of matrix:2\n",
            "enter element of matrix:3\n",
            "enter element of matrix:4\n",
            "enter m:2\n",
            "[[7, 10], [15, 22]]\n"
          ]
        }
      ]
    },
    {
      "cell_type": "code",
      "source": [
        "string = input(\"enter a string \")\n",
        "count = {}\n",
        "for char in string:\n",
        "    if char.isalpha():\n",
        "        count[char] = count.get(char, 0) + 1\n",
        "\n",
        "max_count = 0\n",
        "max_char = None\n",
        "for char, count in count.items():\n",
        "    if count > max_count:\n",
        "        max_count = count\n",
        "        max_char = char\n",
        "print(\"The maximally occurring character is\",max_char,\"& occurrence count is\",max_count)\n"
      ],
      "metadata": {
        "colab": {
          "base_uri": "https://localhost:8080/"
        },
        "id": "Ai1Ly9sYeNGx",
        "outputId": "6d8eb486-1767-4893-e639-f6d32dd1fd33"
      },
      "execution_count": 5,
      "outputs": [
        {
          "output_type": "stream",
          "name": "stdout",
          "text": [
            "enter a string mississippi\n",
            "The maximally occurring character is i & occurrence count is 4\n"
          ]
        }
      ]
    }
  ]
}